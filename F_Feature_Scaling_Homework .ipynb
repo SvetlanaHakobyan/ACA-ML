{
 "cells": [
  {
   "cell_type": "code",
   "execution_count": 209,
   "metadata": {},
   "outputs": [],
   "source": [
    "# importing essential libs\n",
    "from sklearn.model_selection import train_test_split\n",
    "from sklearn.metrics import mean_squared_error\n",
    "from sklearn import datasets, linear_model\n",
    "from matplotlib import pyplot as plt\n",
    "import pandas as pd\n",
    "import numpy as np"
   ]
  },
  {
   "cell_type": "code",
   "execution_count": 210,
   "metadata": {},
   "outputs": [],
   "source": [
    "# Load the Diabetes dataset\n",
    "columns = 'age sex bmi map tc ldl hdl tch ltg glu'.split() # Declare the columns names\n",
    "diabetes = datasets.load_diabetes() # Call the diabetes dataset from sklearn\n",
    "df = pd.DataFrame(diabetes.data, columns=columns) # load the dataset as a pandas data frame\n",
    "y = diabetes.target # define the target variable (dependent variable) as y"
   ]
  },
  {
   "cell_type": "code",
   "execution_count": 211,
   "metadata": {},
   "outputs": [
    {
     "data": {
      "text/html": [
       "<div>\n",
       "<style scoped>\n",
       "    .dataframe tbody tr th:only-of-type {\n",
       "        vertical-align: middle;\n",
       "    }\n",
       "\n",
       "    .dataframe tbody tr th {\n",
       "        vertical-align: top;\n",
       "    }\n",
       "\n",
       "    .dataframe thead th {\n",
       "        text-align: right;\n",
       "    }\n",
       "</style>\n",
       "<table border=\"1\" class=\"dataframe\">\n",
       "  <thead>\n",
       "    <tr style=\"text-align: right;\">\n",
       "      <th></th>\n",
       "      <th>age</th>\n",
       "      <th>sex</th>\n",
       "      <th>bmi</th>\n",
       "      <th>map</th>\n",
       "      <th>tc</th>\n",
       "      <th>ldl</th>\n",
       "      <th>hdl</th>\n",
       "      <th>tch</th>\n",
       "      <th>ltg</th>\n",
       "      <th>glu</th>\n",
       "    </tr>\n",
       "  </thead>\n",
       "  <tbody>\n",
       "    <tr>\n",
       "      <th>0</th>\n",
       "      <td>0.038076</td>\n",
       "      <td>0.050680</td>\n",
       "      <td>0.061696</td>\n",
       "      <td>0.021872</td>\n",
       "      <td>-0.044223</td>\n",
       "      <td>-0.034821</td>\n",
       "      <td>-0.043401</td>\n",
       "      <td>-0.002592</td>\n",
       "      <td>0.019908</td>\n",
       "      <td>-0.017646</td>\n",
       "    </tr>\n",
       "    <tr>\n",
       "      <th>1</th>\n",
       "      <td>-0.001882</td>\n",
       "      <td>-0.044642</td>\n",
       "      <td>-0.051474</td>\n",
       "      <td>-0.026328</td>\n",
       "      <td>-0.008449</td>\n",
       "      <td>-0.019163</td>\n",
       "      <td>0.074412</td>\n",
       "      <td>-0.039493</td>\n",
       "      <td>-0.068330</td>\n",
       "      <td>-0.092204</td>\n",
       "    </tr>\n",
       "    <tr>\n",
       "      <th>2</th>\n",
       "      <td>0.085299</td>\n",
       "      <td>0.050680</td>\n",
       "      <td>0.044451</td>\n",
       "      <td>-0.005671</td>\n",
       "      <td>-0.045599</td>\n",
       "      <td>-0.034194</td>\n",
       "      <td>-0.032356</td>\n",
       "      <td>-0.002592</td>\n",
       "      <td>0.002864</td>\n",
       "      <td>-0.025930</td>\n",
       "    </tr>\n",
       "    <tr>\n",
       "      <th>3</th>\n",
       "      <td>-0.089063</td>\n",
       "      <td>-0.044642</td>\n",
       "      <td>-0.011595</td>\n",
       "      <td>-0.036656</td>\n",
       "      <td>0.012191</td>\n",
       "      <td>0.024991</td>\n",
       "      <td>-0.036038</td>\n",
       "      <td>0.034309</td>\n",
       "      <td>0.022692</td>\n",
       "      <td>-0.009362</td>\n",
       "    </tr>\n",
       "    <tr>\n",
       "      <th>4</th>\n",
       "      <td>0.005383</td>\n",
       "      <td>-0.044642</td>\n",
       "      <td>-0.036385</td>\n",
       "      <td>0.021872</td>\n",
       "      <td>0.003935</td>\n",
       "      <td>0.015596</td>\n",
       "      <td>0.008142</td>\n",
       "      <td>-0.002592</td>\n",
       "      <td>-0.031991</td>\n",
       "      <td>-0.046641</td>\n",
       "    </tr>\n",
       "  </tbody>\n",
       "</table>\n",
       "</div>"
      ],
      "text/plain": [
       "        age       sex       bmi       map        tc       ldl       hdl  \\\n",
       "0  0.038076  0.050680  0.061696  0.021872 -0.044223 -0.034821 -0.043401   \n",
       "1 -0.001882 -0.044642 -0.051474 -0.026328 -0.008449 -0.019163  0.074412   \n",
       "2  0.085299  0.050680  0.044451 -0.005671 -0.045599 -0.034194 -0.032356   \n",
       "3 -0.089063 -0.044642 -0.011595 -0.036656  0.012191  0.024991 -0.036038   \n",
       "4  0.005383 -0.044642 -0.036385  0.021872  0.003935  0.015596  0.008142   \n",
       "\n",
       "        tch       ltg       glu  \n",
       "0 -0.002592  0.019908 -0.017646  \n",
       "1 -0.039493 -0.068330 -0.092204  \n",
       "2 -0.002592  0.002864 -0.025930  \n",
       "3  0.034309  0.022692 -0.009362  \n",
       "4 -0.002592 -0.031991 -0.046641  "
      ]
     },
     "execution_count": 211,
     "metadata": {},
     "output_type": "execute_result"
    }
   ],
   "source": [
    "df.head()"
   ]
  },
  {
   "cell_type": "code",
   "execution_count": 212,
   "metadata": {},
   "outputs": [
    {
     "data": {
      "text/plain": [
       "array([151.,  75., 141., 206., 135.])"
      ]
     },
     "execution_count": 212,
     "metadata": {},
     "output_type": "execute_result"
    }
   ],
   "source": [
    "y[:5]"
   ]
  },
  {
   "cell_type": "code",
   "execution_count": 213,
   "metadata": {},
   "outputs": [
    {
     "name": "stdout",
     "output_type": "stream",
     "text": [
      "(353, 10) (353,)\n",
      "(89, 10) (89,)\n"
     ]
    }
   ],
   "source": [
    "# create training and testing vars\n",
    "X_train, X_test, y_train, y_test = train_test_split(df, y, test_size=0.2, random_state=42)\n",
    "print(X_train.shape, y_train.shape)\n",
    "print(X_test.shape, y_test.shape)"
   ]
  },
  {
   "cell_type": "code",
   "execution_count": 214,
   "metadata": {},
   "outputs": [],
   "source": [
    "# fit a model\n",
    "lm = linear_model.LinearRegression()\n",
    "model = lm.fit(X_train, y_train)\n",
    "predictions = lm.predict(X_test)"
   ]
  },
  {
   "cell_type": "code",
   "execution_count": 215,
   "metadata": {},
   "outputs": [
    {
     "data": {
      "text/plain": [
       "0.452606602161738"
      ]
     },
     "execution_count": 215,
     "metadata": {},
     "output_type": "execute_result"
    }
   ],
   "source": [
    "model.score(X_test, y_test)"
   ]
  },
  {
   "cell_type": "code",
   "execution_count": 216,
   "metadata": {},
   "outputs": [
    {
     "data": {
      "text/plain": [
       "Text(0, 0.5, 'Predictions')"
      ]
     },
     "execution_count": 216,
     "metadata": {},
     "output_type": "execute_result"
    },
    {
     "data": {
      "image/png": "[encoded data removed]",
      "text/plain": [
       "<Figure size 432x288 with 1 Axes>"
      ]
     },
     "metadata": {
      "needs_background": "light"
     },
     "output_type": "display_data"
    }
   ],
   "source": [
    "## The line / model\n",
    "plt.scatter(y_test, predictions)\n",
    "plt.xlabel('True Values')\n",
    "plt.ylabel('Predictions')"
   ]
  },
  {
   "cell_type": "code",
   "execution_count": 217,
   "metadata": {},
   "outputs": [
    {
     "name": "stdout",
     "output_type": "stream",
     "text": [
      "Test RMSE: 53.8532569849144\n",
      "Train RMSE: 53.55881425327268\n"
     ]
    }
   ],
   "source": [
    "print ('Test RMSE:', np.sqrt(mean_squared_error(predictions, y_test)))\n",
    "print ('Train RMSE:', np.sqrt(mean_squared_error(lm.predict(X_train), y_train)))"
   ]
  },
  {
   "cell_type": "markdown",
   "metadata": {},
   "source": [
    "# Feature Scaling"
   ]
  },
  {
   "cell_type": "code",
   "execution_count": 218,
   "metadata": {},
   "outputs": [
    {
     "data": {
      "text/html": [
       "<div>\n",
       "<style scoped>\n",
       "    .dataframe tbody tr th:only-of-type {\n",
       "        vertical-align: middle;\n",
       "    }\n",
       "\n",
       "    .dataframe tbody tr th {\n",
       "        vertical-align: top;\n",
       "    }\n",
       "\n",
       "    .dataframe thead th {\n",
       "        text-align: right;\n",
       "    }\n",
       "</style>\n",
       "<table border=\"1\" class=\"dataframe\">\n",
       "  <thead>\n",
       "    <tr style=\"text-align: right;\">\n",
       "      <th></th>\n",
       "      <th>Name</th>\n",
       "      <th>Age</th>\n",
       "      <th>Nationality</th>\n",
       "      <th>Overall</th>\n",
       "      <th>Potential</th>\n",
       "      <th>Club</th>\n",
       "      <th>Value</th>\n",
       "      <th>Wage</th>\n",
       "      <th>Position</th>\n",
       "      <th>Jersey Number</th>\n",
       "      <th>Contract Valid Until</th>\n",
       "      <th>Height</th>\n",
       "      <th>Weight</th>\n",
       "    </tr>\n",
       "  </thead>\n",
       "  <tbody>\n",
       "    <tr>\n",
       "      <th>0</th>\n",
       "      <td>L. Messi</td>\n",
       "      <td>31</td>\n",
       "      <td>Argentina</td>\n",
       "      <td>94</td>\n",
       "      <td>94</td>\n",
       "      <td>FC Barcelona</td>\n",
       "      <td>110500000.0</td>\n",
       "      <td>€565K</td>\n",
       "      <td>RF</td>\n",
       "      <td>10.0</td>\n",
       "      <td>2021</td>\n",
       "      <td>5'7</td>\n",
       "      <td>159lbs</td>\n",
       "    </tr>\n",
       "    <tr>\n",
       "      <th>1</th>\n",
       "      <td>Cristiano Ronaldo</td>\n",
       "      <td>33</td>\n",
       "      <td>Portugal</td>\n",
       "      <td>94</td>\n",
       "      <td>94</td>\n",
       "      <td>Juventus</td>\n",
       "      <td>77000000.0</td>\n",
       "      <td>€405K</td>\n",
       "      <td>ST</td>\n",
       "      <td>7.0</td>\n",
       "      <td>2022</td>\n",
       "      <td>6'2</td>\n",
       "      <td>183lbs</td>\n",
       "    </tr>\n",
       "    <tr>\n",
       "      <th>2</th>\n",
       "      <td>Neymar Jr</td>\n",
       "      <td>26</td>\n",
       "      <td>Brazil</td>\n",
       "      <td>92</td>\n",
       "      <td>93</td>\n",
       "      <td>Paris Saint-Germain</td>\n",
       "      <td>118500000.0</td>\n",
       "      <td>€290K</td>\n",
       "      <td>LW</td>\n",
       "      <td>10.0</td>\n",
       "      <td>2022</td>\n",
       "      <td>5'9</td>\n",
       "      <td>150lbs</td>\n",
       "    </tr>\n",
       "    <tr>\n",
       "      <th>3</th>\n",
       "      <td>De Gea</td>\n",
       "      <td>27</td>\n",
       "      <td>Spain</td>\n",
       "      <td>91</td>\n",
       "      <td>93</td>\n",
       "      <td>Manchester United</td>\n",
       "      <td>72000000.0</td>\n",
       "      <td>€260K</td>\n",
       "      <td>GK</td>\n",
       "      <td>1.0</td>\n",
       "      <td>2020</td>\n",
       "      <td>6'4</td>\n",
       "      <td>168lbs</td>\n",
       "    </tr>\n",
       "    <tr>\n",
       "      <th>4</th>\n",
       "      <td>K. De Bruyne</td>\n",
       "      <td>27</td>\n",
       "      <td>Belgium</td>\n",
       "      <td>91</td>\n",
       "      <td>92</td>\n",
       "      <td>Manchester City</td>\n",
       "      <td>102000000.0</td>\n",
       "      <td>€355K</td>\n",
       "      <td>RCM</td>\n",
       "      <td>7.0</td>\n",
       "      <td>2023</td>\n",
       "      <td>5'11</td>\n",
       "      <td>154lbs</td>\n",
       "    </tr>\n",
       "  </tbody>\n",
       "</table>\n",
       "</div>"
      ],
      "text/plain": [
       "                Name  Age Nationality  Overall  Potential  \\\n",
       "0           L. Messi   31   Argentina       94         94   \n",
       "1  Cristiano Ronaldo   33    Portugal       94         94   \n",
       "2          Neymar Jr   26      Brazil       92         93   \n",
       "3             De Gea   27       Spain       91         93   \n",
       "4       K. De Bruyne   27     Belgium       91         92   \n",
       "\n",
       "                  Club        Value   Wage Position  Jersey Number  \\\n",
       "0         FC Barcelona  110500000.0  €565K       RF           10.0   \n",
       "1             Juventus   77000000.0  €405K       ST            7.0   \n",
       "2  Paris Saint-Germain  118500000.0  €290K       LW           10.0   \n",
       "3    Manchester United   72000000.0  €260K       GK            1.0   \n",
       "4      Manchester City  102000000.0  €355K      RCM            7.0   \n",
       "\n",
       "  Contract Valid Until Height  Weight  \n",
       "0                 2021    5'7  159lbs  \n",
       "1                 2022    6'2  183lbs  \n",
       "2                 2022    5'9  150lbs  \n",
       "3                 2020    6'4  168lbs  \n",
       "4                 2023   5'11  154lbs  "
      ]
     },
     "execution_count": 218,
     "metadata": {},
     "output_type": "execute_result"
    }
   ],
   "source": [
    "import pandas as pd\n",
    "from sklearn.preprocessing import MinMaxScaler\n",
    "  \n",
    "# Read Data from CSV \n",
    "data = pd.read_csv('regression.csv') \n",
    "data.head()"
   ]
  },
  {
   "cell_type": "code",
   "execution_count": 219,
   "metadata": {},
   "outputs": [],
   "source": [
    "y = data['Value']"
   ]
  },
  {
   "cell_type": "code",
   "execution_count": 220,
   "metadata": {},
   "outputs": [],
   "source": [
    "data = data.drop(['Name', 'Nationality', 'Club', 'Wage', 'Position', 'Weight', 'Height', 'Contract Valid Until', 'Value'], axis = 1)"
   ]
  },
  {
   "cell_type": "code",
   "execution_count": 221,
   "metadata": {},
   "outputs": [
    {
     "data": {
      "text/html": [
       "<div>\n",
       "<style scoped>\n",
       "    .dataframe tbody tr th:only-of-type {\n",
       "        vertical-align: middle;\n",
       "    }\n",
       "\n",
       "    .dataframe tbody tr th {\n",
       "        vertical-align: top;\n",
       "    }\n",
       "\n",
       "    .dataframe thead th {\n",
       "        text-align: right;\n",
       "    }\n",
       "</style>\n",
       "<table border=\"1\" class=\"dataframe\">\n",
       "  <thead>\n",
       "    <tr style=\"text-align: right;\">\n",
       "      <th></th>\n",
       "      <th>Age</th>\n",
       "      <th>Overall</th>\n",
       "      <th>Potential</th>\n",
       "      <th>Jersey Number</th>\n",
       "    </tr>\n",
       "  </thead>\n",
       "  <tbody>\n",
       "    <tr>\n",
       "      <th>0</th>\n",
       "      <td>31</td>\n",
       "      <td>94</td>\n",
       "      <td>94</td>\n",
       "      <td>10.0</td>\n",
       "    </tr>\n",
       "    <tr>\n",
       "      <th>1</th>\n",
       "      <td>33</td>\n",
       "      <td>94</td>\n",
       "      <td>94</td>\n",
       "      <td>7.0</td>\n",
       "    </tr>\n",
       "    <tr>\n",
       "      <th>2</th>\n",
       "      <td>26</td>\n",
       "      <td>92</td>\n",
       "      <td>93</td>\n",
       "      <td>10.0</td>\n",
       "    </tr>\n",
       "    <tr>\n",
       "      <th>3</th>\n",
       "      <td>27</td>\n",
       "      <td>91</td>\n",
       "      <td>93</td>\n",
       "      <td>1.0</td>\n",
       "    </tr>\n",
       "    <tr>\n",
       "      <th>4</th>\n",
       "      <td>27</td>\n",
       "      <td>91</td>\n",
       "      <td>92</td>\n",
       "      <td>7.0</td>\n",
       "    </tr>\n",
       "  </tbody>\n",
       "</table>\n",
       "</div>"
      ],
      "text/plain": [
       "   Age  Overall  Potential  Jersey Number\n",
       "0   31       94         94           10.0\n",
       "1   33       94         94            7.0\n",
       "2   26       92         93           10.0\n",
       "3   27       91         93            1.0\n",
       "4   27       91         92            7.0"
      ]
     },
     "execution_count": 221,
     "metadata": {},
     "output_type": "execute_result"
    }
   ],
   "source": [
    "data.head()"
   ]
  },
  {
   "cell_type": "code",
   "execution_count": 222,
   "metadata": {},
   "outputs": [],
   "source": [
    "X_train, X_test, y_train, y_test = train_test_split(data, y, test_size=0.2, random_state=42)"
   ]
  },
  {
   "cell_type": "markdown",
   "metadata": {},
   "source": [
    "### MinMaxScaler"
   ]
  },
  {
   "cell_type": "code",
   "execution_count": 223,
   "metadata": {},
   "outputs": [],
   "source": [
    "# Initialise the Scaler and Fit\n",
    "norm = MinMaxScaler().fit(X_train)"
   ]
  },
  {
   "cell_type": "code",
   "execution_count": 224,
   "metadata": {},
   "outputs": [],
   "source": [
    "X_train = pd.DataFrame(columns = X_train.columns, data = norm.transform(X_train))"
   ]
  },
  {
   "cell_type": "code",
   "execution_count": 225,
   "metadata": {},
   "outputs": [
    {
     "data": {
      "text/html": [
       "<div>\n",
       "<style scoped>\n",
       "    .dataframe tbody tr th:only-of-type {\n",
       "        vertical-align: middle;\n",
       "    }\n",
       "\n",
       "    .dataframe tbody tr th {\n",
       "        vertical-align: top;\n",
       "    }\n",
       "\n",
       "    .dataframe thead th {\n",
       "        text-align: right;\n",
       "    }\n",
       "</style>\n",
       "<table border=\"1\" class=\"dataframe\">\n",
       "  <thead>\n",
       "    <tr style=\"text-align: right;\">\n",
       "      <th></th>\n",
       "      <th>Age</th>\n",
       "      <th>Overall</th>\n",
       "      <th>Potential</th>\n",
       "      <th>Jersey Number</th>\n",
       "    </tr>\n",
       "  </thead>\n",
       "  <tbody>\n",
       "    <tr>\n",
       "      <th>0</th>\n",
       "      <td>0.230769</td>\n",
       "      <td>0.541667</td>\n",
       "      <td>0.723404</td>\n",
       "      <td>0.214286</td>\n",
       "    </tr>\n",
       "    <tr>\n",
       "      <th>1</th>\n",
       "      <td>0.500000</td>\n",
       "      <td>0.229167</td>\n",
       "      <td>0.191489</td>\n",
       "      <td>0.142857</td>\n",
       "    </tr>\n",
       "    <tr>\n",
       "      <th>2</th>\n",
       "      <td>0.461538</td>\n",
       "      <td>0.437500</td>\n",
       "      <td>0.404255</td>\n",
       "      <td>0.173469</td>\n",
       "    </tr>\n",
       "    <tr>\n",
       "      <th>3</th>\n",
       "      <td>0.423077</td>\n",
       "      <td>0.333333</td>\n",
       "      <td>0.297872</td>\n",
       "      <td>0.193878</td>\n",
       "    </tr>\n",
       "    <tr>\n",
       "      <th>4</th>\n",
       "      <td>0.423077</td>\n",
       "      <td>0.416667</td>\n",
       "      <td>0.382979</td>\n",
       "      <td>0.204082</td>\n",
       "    </tr>\n",
       "    <tr>\n",
       "      <th>...</th>\n",
       "      <td>...</td>\n",
       "      <td>...</td>\n",
       "      <td>...</td>\n",
       "      <td>...</td>\n",
       "    </tr>\n",
       "    <tr>\n",
       "      <th>14320</th>\n",
       "      <td>0.615385</td>\n",
       "      <td>0.375000</td>\n",
       "      <td>0.340426</td>\n",
       "      <td>0.112245</td>\n",
       "    </tr>\n",
       "    <tr>\n",
       "      <th>14321</th>\n",
       "      <td>0.423077</td>\n",
       "      <td>0.354167</td>\n",
       "      <td>0.319149</td>\n",
       "      <td>0.061224</td>\n",
       "    </tr>\n",
       "    <tr>\n",
       "      <th>14322</th>\n",
       "      <td>0.384615</td>\n",
       "      <td>0.500000</td>\n",
       "      <td>0.468085</td>\n",
       "      <td>0.132653</td>\n",
       "    </tr>\n",
       "    <tr>\n",
       "      <th>14323</th>\n",
       "      <td>0.384615</td>\n",
       "      <td>0.666667</td>\n",
       "      <td>0.680851</td>\n",
       "      <td>0.867347</td>\n",
       "    </tr>\n",
       "    <tr>\n",
       "      <th>14324</th>\n",
       "      <td>0.038462</td>\n",
       "      <td>0.250000</td>\n",
       "      <td>0.595745</td>\n",
       "      <td>0.622449</td>\n",
       "    </tr>\n",
       "  </tbody>\n",
       "</table>\n",
       "<p>14325 rows × 4 columns</p>\n",
       "</div>"
      ],
      "text/plain": [
       "            Age   Overall  Potential  Jersey Number\n",
       "0      0.230769  0.541667   0.723404       0.214286\n",
       "1      0.500000  0.229167   0.191489       0.142857\n",
       "2      0.461538  0.437500   0.404255       0.173469\n",
       "3      0.423077  0.333333   0.297872       0.193878\n",
       "4      0.423077  0.416667   0.382979       0.204082\n",
       "...         ...       ...        ...            ...\n",
       "14320  0.615385  0.375000   0.340426       0.112245\n",
       "14321  0.423077  0.354167   0.319149       0.061224\n",
       "14322  0.384615  0.500000   0.468085       0.132653\n",
       "14323  0.384615  0.666667   0.680851       0.867347\n",
       "14324  0.038462  0.250000   0.595745       0.622449\n",
       "\n",
       "[14325 rows x 4 columns]"
      ]
     },
     "execution_count": 225,
     "metadata": {},
     "output_type": "execute_result"
    }
   ],
   "source": [
    "X_train"
   ]
  },
  {
   "cell_type": "code",
   "execution_count": 226,
   "metadata": {},
   "outputs": [],
   "source": [
    "X_test = pd.DataFrame(columns = X_test.columns, data = norm.transform(X_test))"
   ]
  },
  {
   "cell_type": "code",
   "execution_count": 227,
   "metadata": {},
   "outputs": [
    {
     "data": {
      "text/html": [
       "<div>\n",
       "<style scoped>\n",
       "    .dataframe tbody tr th:only-of-type {\n",
       "        vertical-align: middle;\n",
       "    }\n",
       "\n",
       "    .dataframe tbody tr th {\n",
       "        vertical-align: top;\n",
       "    }\n",
       "\n",
       "    .dataframe thead th {\n",
       "        text-align: right;\n",
       "    }\n",
       "</style>\n",
       "<table border=\"1\" class=\"dataframe\">\n",
       "  <thead>\n",
       "    <tr style=\"text-align: right;\">\n",
       "      <th></th>\n",
       "      <th>Age</th>\n",
       "      <th>Overall</th>\n",
       "      <th>Potential</th>\n",
       "      <th>Jersey Number</th>\n",
       "    </tr>\n",
       "  </thead>\n",
       "  <tbody>\n",
       "    <tr>\n",
       "      <th>0</th>\n",
       "      <td>0.115385</td>\n",
       "      <td>0.354167</td>\n",
       "      <td>0.553191</td>\n",
       "      <td>0.316327</td>\n",
       "    </tr>\n",
       "    <tr>\n",
       "      <th>1</th>\n",
       "      <td>0.230769</td>\n",
       "      <td>0.395833</td>\n",
       "      <td>0.531915</td>\n",
       "      <td>0.071429</td>\n",
       "    </tr>\n",
       "    <tr>\n",
       "      <th>2</th>\n",
       "      <td>0.346154</td>\n",
       "      <td>0.145833</td>\n",
       "      <td>0.170213</td>\n",
       "      <td>0.000000</td>\n",
       "    </tr>\n",
       "    <tr>\n",
       "      <th>3</th>\n",
       "      <td>0.307692</td>\n",
       "      <td>0.583333</td>\n",
       "      <td>0.638298</td>\n",
       "      <td>0.010204</td>\n",
       "    </tr>\n",
       "    <tr>\n",
       "      <th>4</th>\n",
       "      <td>0.115385</td>\n",
       "      <td>0.354167</td>\n",
       "      <td>0.489362</td>\n",
       "      <td>0.163265</td>\n",
       "    </tr>\n",
       "    <tr>\n",
       "      <th>...</th>\n",
       "      <td>...</td>\n",
       "      <td>...</td>\n",
       "      <td>...</td>\n",
       "      <td>...</td>\n",
       "    </tr>\n",
       "    <tr>\n",
       "      <th>3577</th>\n",
       "      <td>0.653846</td>\n",
       "      <td>0.458333</td>\n",
       "      <td>0.425532</td>\n",
       "      <td>0.071429</td>\n",
       "    </tr>\n",
       "    <tr>\n",
       "      <th>3578</th>\n",
       "      <td>0.423077</td>\n",
       "      <td>0.395833</td>\n",
       "      <td>0.425532</td>\n",
       "      <td>0.153061</td>\n",
       "    </tr>\n",
       "    <tr>\n",
       "      <th>3579</th>\n",
       "      <td>0.423077</td>\n",
       "      <td>0.562500</td>\n",
       "      <td>0.553191</td>\n",
       "      <td>0.102041</td>\n",
       "    </tr>\n",
       "    <tr>\n",
       "      <th>3580</th>\n",
       "      <td>0.153846</td>\n",
       "      <td>0.354167</td>\n",
       "      <td>0.595745</td>\n",
       "      <td>0.295918</td>\n",
       "    </tr>\n",
       "    <tr>\n",
       "      <th>3581</th>\n",
       "      <td>0.307692</td>\n",
       "      <td>0.354167</td>\n",
       "      <td>0.425532</td>\n",
       "      <td>0.071429</td>\n",
       "    </tr>\n",
       "  </tbody>\n",
       "</table>\n",
       "<p>3582 rows × 4 columns</p>\n",
       "</div>"
      ],
      "text/plain": [
       "           Age   Overall  Potential  Jersey Number\n",
       "0     0.115385  0.354167   0.553191       0.316327\n",
       "1     0.230769  0.395833   0.531915       0.071429\n",
       "2     0.346154  0.145833   0.170213       0.000000\n",
       "3     0.307692  0.583333   0.638298       0.010204\n",
       "4     0.115385  0.354167   0.489362       0.163265\n",
       "...        ...       ...        ...            ...\n",
       "3577  0.653846  0.458333   0.425532       0.071429\n",
       "3578  0.423077  0.395833   0.425532       0.153061\n",
       "3579  0.423077  0.562500   0.553191       0.102041\n",
       "3580  0.153846  0.354167   0.595745       0.295918\n",
       "3581  0.307692  0.354167   0.425532       0.071429\n",
       "\n",
       "[3582 rows x 4 columns]"
      ]
     },
     "execution_count": 227,
     "metadata": {},
     "output_type": "execute_result"
    }
   ],
   "source": [
    "X_test"
   ]
  },
  {
   "cell_type": "markdown",
   "metadata": {},
   "source": [
    "#### Implement your own MinMaxScaler. Make sure you get the same results as in sklearn.preprocessing.MinMaxScaler"
   ]
  },
  {
   "cell_type": "code",
   "execution_count": 228,
   "metadata": {},
   "outputs": [],
   "source": [
    "class MyMinMaxScaler():\n",
    "    \n",
    "    def __init__(self):\n",
    "        pass\n",
    "\n",
    "    def fit(self, X):\n",
    "        self.min = np.min(X, axis=0)\n",
    "        self.max = np.max(X, axis=0)\n",
    "        \n",
    "    def transform(self, X):\n",
    "        X_transformed = (X - self.min) / (self.max - self.min)\n",
    "        return X_transformed"
   ]
  },
  {
   "cell_type": "code",
   "execution_count": 229,
   "metadata": {},
   "outputs": [
    {
     "data": {
      "text/html": [
       "<div>\n",
       "<style scoped>\n",
       "    .dataframe tbody tr th:only-of-type {\n",
       "        vertical-align: middle;\n",
       "    }\n",
       "\n",
       "    .dataframe tbody tr th {\n",
       "        vertical-align: top;\n",
       "    }\n",
       "\n",
       "    .dataframe thead th {\n",
       "        text-align: right;\n",
       "    }\n",
       "</style>\n",
       "<table border=\"1\" class=\"dataframe\">\n",
       "  <thead>\n",
       "    <tr style=\"text-align: right;\">\n",
       "      <th></th>\n",
       "      <th>Age</th>\n",
       "      <th>Overall</th>\n",
       "      <th>Potential</th>\n",
       "      <th>Jersey Number</th>\n",
       "    </tr>\n",
       "  </thead>\n",
       "  <tbody>\n",
       "    <tr>\n",
       "      <th>0</th>\n",
       "      <td>0.115385</td>\n",
       "      <td>0.354167</td>\n",
       "      <td>0.553191</td>\n",
       "      <td>0.316327</td>\n",
       "    </tr>\n",
       "    <tr>\n",
       "      <th>1</th>\n",
       "      <td>0.230769</td>\n",
       "      <td>0.395833</td>\n",
       "      <td>0.531915</td>\n",
       "      <td>0.071429</td>\n",
       "    </tr>\n",
       "    <tr>\n",
       "      <th>2</th>\n",
       "      <td>0.346154</td>\n",
       "      <td>0.145833</td>\n",
       "      <td>0.170213</td>\n",
       "      <td>0.000000</td>\n",
       "    </tr>\n",
       "    <tr>\n",
       "      <th>3</th>\n",
       "      <td>0.307692</td>\n",
       "      <td>0.583333</td>\n",
       "      <td>0.638298</td>\n",
       "      <td>0.010204</td>\n",
       "    </tr>\n",
       "    <tr>\n",
       "      <th>4</th>\n",
       "      <td>0.115385</td>\n",
       "      <td>0.354167</td>\n",
       "      <td>0.489362</td>\n",
       "      <td>0.163265</td>\n",
       "    </tr>\n",
       "    <tr>\n",
       "      <th>...</th>\n",
       "      <td>...</td>\n",
       "      <td>...</td>\n",
       "      <td>...</td>\n",
       "      <td>...</td>\n",
       "    </tr>\n",
       "    <tr>\n",
       "      <th>3577</th>\n",
       "      <td>0.653846</td>\n",
       "      <td>0.458333</td>\n",
       "      <td>0.425532</td>\n",
       "      <td>0.071429</td>\n",
       "    </tr>\n",
       "    <tr>\n",
       "      <th>3578</th>\n",
       "      <td>0.423077</td>\n",
       "      <td>0.395833</td>\n",
       "      <td>0.425532</td>\n",
       "      <td>0.153061</td>\n",
       "    </tr>\n",
       "    <tr>\n",
       "      <th>3579</th>\n",
       "      <td>0.423077</td>\n",
       "      <td>0.562500</td>\n",
       "      <td>0.553191</td>\n",
       "      <td>0.102041</td>\n",
       "    </tr>\n",
       "    <tr>\n",
       "      <th>3580</th>\n",
       "      <td>0.153846</td>\n",
       "      <td>0.354167</td>\n",
       "      <td>0.595745</td>\n",
       "      <td>0.295918</td>\n",
       "    </tr>\n",
       "    <tr>\n",
       "      <th>3581</th>\n",
       "      <td>0.307692</td>\n",
       "      <td>0.354167</td>\n",
       "      <td>0.425532</td>\n",
       "      <td>0.071429</td>\n",
       "    </tr>\n",
       "  </tbody>\n",
       "</table>\n",
       "<p>3582 rows × 4 columns</p>\n",
       "</div>"
      ],
      "text/plain": [
       "           Age   Overall  Potential  Jersey Number\n",
       "0     0.115385  0.354167   0.553191       0.316327\n",
       "1     0.230769  0.395833   0.531915       0.071429\n",
       "2     0.346154  0.145833   0.170213       0.000000\n",
       "3     0.307692  0.583333   0.638298       0.010204\n",
       "4     0.115385  0.354167   0.489362       0.163265\n",
       "...        ...       ...        ...            ...\n",
       "3577  0.653846  0.458333   0.425532       0.071429\n",
       "3578  0.423077  0.395833   0.425532       0.153061\n",
       "3579  0.423077  0.562500   0.553191       0.102041\n",
       "3580  0.153846  0.354167   0.595745       0.295918\n",
       "3581  0.307692  0.354167   0.425532       0.071429\n",
       "\n",
       "[3582 rows x 4 columns]"
      ]
     },
     "execution_count": 229,
     "metadata": {},
     "output_type": "execute_result"
    }
   ],
   "source": [
    "scaler = MyMinMaxScaler()\n",
    "scaler.fit(X_train)\n",
    "scaled_train = scaler.transform(X_train)\n",
    "scaled_test = scaler.transform(X_test)\n",
    "scaled_test"
   ]
  },
  {
   "cell_type": "markdown",
   "metadata": {},
   "source": [
    "### Standard Scaler"
   ]
  },
  {
   "cell_type": "code",
   "execution_count": 230,
   "metadata": {},
   "outputs": [],
   "source": [
    "from sklearn.preprocessing import StandardScaler"
   ]
  },
  {
   "cell_type": "code",
   "execution_count": 231,
   "metadata": {},
   "outputs": [],
   "source": [
    "# Initialise the Scaler and Fit\n",
    "norm = StandardScaler().fit(X_train)"
   ]
  },
  {
   "cell_type": "code",
   "execution_count": 232,
   "metadata": {},
   "outputs": [],
   "source": [
    "X_train  = pd.DataFrame(columns = X_train.columns, data = norm.transform(X_train))"
   ]
  },
  {
   "cell_type": "code",
   "execution_count": 233,
   "metadata": {},
   "outputs": [
    {
     "data": {
      "image/png": "[encoded data removed]",
      "text/plain": [
       "<Figure size 432x288 with 1 Axes>"
      ]
     },
     "metadata": {
      "needs_background": "light"
     },
     "output_type": "display_data"
    }
   ],
   "source": [
    "plt.hist(X_train.Age)\n",
    "plt.show()"
   ]
  },
  {
   "cell_type": "code",
   "execution_count": 234,
   "metadata": {},
   "outputs": [
    {
     "data": {
      "text/html": [
       "<div>\n",
       "<style scoped>\n",
       "    .dataframe tbody tr th:only-of-type {\n",
       "        vertical-align: middle;\n",
       "    }\n",
       "\n",
       "    .dataframe tbody tr th {\n",
       "        vertical-align: top;\n",
       "    }\n",
       "\n",
       "    .dataframe thead th {\n",
       "        text-align: right;\n",
       "    }\n",
       "</style>\n",
       "<table border=\"1\" class=\"dataframe\">\n",
       "  <thead>\n",
       "    <tr style=\"text-align: right;\">\n",
       "      <th></th>\n",
       "      <th>Age</th>\n",
       "      <th>Overall</th>\n",
       "      <th>Potential</th>\n",
       "      <th>Jersey Number</th>\n",
       "    </tr>\n",
       "  </thead>\n",
       "  <tbody>\n",
       "    <tr>\n",
       "      <th>0</th>\n",
       "      <td>-1.304214</td>\n",
       "      <td>-0.461592</td>\n",
       "      <td>0.434866</td>\n",
       "      <td>0.762713</td>\n",
       "    </tr>\n",
       "    <tr>\n",
       "      <th>1</th>\n",
       "      <td>-0.660939</td>\n",
       "      <td>-0.173982</td>\n",
       "      <td>0.272293</td>\n",
       "      <td>-0.722646</td>\n",
       "    </tr>\n",
       "    <tr>\n",
       "      <th>2</th>\n",
       "      <td>-0.017663</td>\n",
       "      <td>-1.899643</td>\n",
       "      <td>-2.491440</td>\n",
       "      <td>-1.155875</td>\n",
       "    </tr>\n",
       "    <tr>\n",
       "      <th>3</th>\n",
       "      <td>-0.232088</td>\n",
       "      <td>1.120264</td>\n",
       "      <td>1.085156</td>\n",
       "      <td>-1.093985</td>\n",
       "    </tr>\n",
       "    <tr>\n",
       "      <th>4</th>\n",
       "      <td>-1.304214</td>\n",
       "      <td>-0.461592</td>\n",
       "      <td>-0.052852</td>\n",
       "      <td>-0.165636</td>\n",
       "    </tr>\n",
       "    <tr>\n",
       "      <th>...</th>\n",
       "      <td>...</td>\n",
       "      <td>...</td>\n",
       "      <td>...</td>\n",
       "      <td>...</td>\n",
       "    </tr>\n",
       "    <tr>\n",
       "      <th>3577</th>\n",
       "      <td>1.697739</td>\n",
       "      <td>0.257434</td>\n",
       "      <td>-0.540569</td>\n",
       "      <td>-0.722646</td>\n",
       "    </tr>\n",
       "    <tr>\n",
       "      <th>3578</th>\n",
       "      <td>0.411188</td>\n",
       "      <td>-0.173982</td>\n",
       "      <td>-0.540569</td>\n",
       "      <td>-0.227526</td>\n",
       "    </tr>\n",
       "    <tr>\n",
       "      <th>3579</th>\n",
       "      <td>0.411188</td>\n",
       "      <td>0.976459</td>\n",
       "      <td>0.434866</td>\n",
       "      <td>-0.536976</td>\n",
       "    </tr>\n",
       "    <tr>\n",
       "      <th>3580</th>\n",
       "      <td>-1.089789</td>\n",
       "      <td>-0.461592</td>\n",
       "      <td>0.760011</td>\n",
       "      <td>0.638933</td>\n",
       "    </tr>\n",
       "    <tr>\n",
       "      <th>3581</th>\n",
       "      <td>-0.232088</td>\n",
       "      <td>-0.461592</td>\n",
       "      <td>-0.540569</td>\n",
       "      <td>-0.722646</td>\n",
       "    </tr>\n",
       "  </tbody>\n",
       "</table>\n",
       "<p>3582 rows × 4 columns</p>\n",
       "</div>"
      ],
      "text/plain": [
       "           Age   Overall  Potential  Jersey Number\n",
       "0    -1.304214 -0.461592   0.434866       0.762713\n",
       "1    -0.660939 -0.173982   0.272293      -0.722646\n",
       "2    -0.017663 -1.899643  -2.491440      -1.155875\n",
       "3    -0.232088  1.120264   1.085156      -1.093985\n",
       "4    -1.304214 -0.461592  -0.052852      -0.165636\n",
       "...        ...       ...        ...            ...\n",
       "3577  1.697739  0.257434  -0.540569      -0.722646\n",
       "3578  0.411188 -0.173982  -0.540569      -0.227526\n",
       "3579  0.411188  0.976459   0.434866      -0.536976\n",
       "3580 -1.089789 -0.461592   0.760011       0.638933\n",
       "3581 -0.232088 -0.461592  -0.540569      -0.722646\n",
       "\n",
       "[3582 rows x 4 columns]"
      ]
     },
     "execution_count": 234,
     "metadata": {},
     "output_type": "execute_result"
    }
   ],
   "source": [
    "X_test = pd.DataFrame(columns = X_test.columns, data = norm.transform(X_test))\n",
    "X_test"
   ]
  },
  {
   "cell_type": "markdown",
   "metadata": {},
   "source": [
    "#### Implement your own StandardScaler. Make sure you get the same results as in sklearn.preprocessing.MinMaxScaler"
   ]
  },
  {
   "cell_type": "code",
   "execution_count": 235,
   "metadata": {},
   "outputs": [],
   "source": [
    "class MyStandardScaler:\n",
    "    \n",
    "    def __init__(self):\n",
    "        pass\n",
    "\n",
    "    def fit(self, X):\n",
    "        self.sd = np.std(X, axis=0)\n",
    "        self.mean = np.mean(X, axis=0)\n",
    "        \n",
    "    def transform(self, X):\n",
    "        X_transformed = (X - self.mean) / self.sd\n",
    "        return X_transformed"
   ]
  },
  {
   "cell_type": "code",
   "execution_count": 236,
   "metadata": {},
   "outputs": [
    {
     "data": {
      "text/html": [
       "<div>\n",
       "<style scoped>\n",
       "    .dataframe tbody tr th:only-of-type {\n",
       "        vertical-align: middle;\n",
       "    }\n",
       "\n",
       "    .dataframe tbody tr th {\n",
       "        vertical-align: top;\n",
       "    }\n",
       "\n",
       "    .dataframe thead th {\n",
       "        text-align: right;\n",
       "    }\n",
       "</style>\n",
       "<table border=\"1\" class=\"dataframe\">\n",
       "  <thead>\n",
       "    <tr style=\"text-align: right;\">\n",
       "      <th></th>\n",
       "      <th>Age</th>\n",
       "      <th>Overall</th>\n",
       "      <th>Potential</th>\n",
       "      <th>Jersey Number</th>\n",
       "    </tr>\n",
       "  </thead>\n",
       "  <tbody>\n",
       "    <tr>\n",
       "      <th>0</th>\n",
       "      <td>-1.304214</td>\n",
       "      <td>-0.461592</td>\n",
       "      <td>0.434866</td>\n",
       "      <td>0.762713</td>\n",
       "    </tr>\n",
       "    <tr>\n",
       "      <th>1</th>\n",
       "      <td>-0.660939</td>\n",
       "      <td>-0.173982</td>\n",
       "      <td>0.272293</td>\n",
       "      <td>-0.722646</td>\n",
       "    </tr>\n",
       "    <tr>\n",
       "      <th>2</th>\n",
       "      <td>-0.017663</td>\n",
       "      <td>-1.899643</td>\n",
       "      <td>-2.491440</td>\n",
       "      <td>-1.155875</td>\n",
       "    </tr>\n",
       "    <tr>\n",
       "      <th>3</th>\n",
       "      <td>-0.232088</td>\n",
       "      <td>1.120264</td>\n",
       "      <td>1.085156</td>\n",
       "      <td>-1.093985</td>\n",
       "    </tr>\n",
       "    <tr>\n",
       "      <th>4</th>\n",
       "      <td>-1.304214</td>\n",
       "      <td>-0.461592</td>\n",
       "      <td>-0.052852</td>\n",
       "      <td>-0.165636</td>\n",
       "    </tr>\n",
       "    <tr>\n",
       "      <th>...</th>\n",
       "      <td>...</td>\n",
       "      <td>...</td>\n",
       "      <td>...</td>\n",
       "      <td>...</td>\n",
       "    </tr>\n",
       "    <tr>\n",
       "      <th>3577</th>\n",
       "      <td>1.697739</td>\n",
       "      <td>0.257434</td>\n",
       "      <td>-0.540569</td>\n",
       "      <td>-0.722646</td>\n",
       "    </tr>\n",
       "    <tr>\n",
       "      <th>3578</th>\n",
       "      <td>0.411188</td>\n",
       "      <td>-0.173982</td>\n",
       "      <td>-0.540569</td>\n",
       "      <td>-0.227526</td>\n",
       "    </tr>\n",
       "    <tr>\n",
       "      <th>3579</th>\n",
       "      <td>0.411188</td>\n",
       "      <td>0.976459</td>\n",
       "      <td>0.434866</td>\n",
       "      <td>-0.536976</td>\n",
       "    </tr>\n",
       "    <tr>\n",
       "      <th>3580</th>\n",
       "      <td>-1.089789</td>\n",
       "      <td>-0.461592</td>\n",
       "      <td>0.760011</td>\n",
       "      <td>0.638933</td>\n",
       "    </tr>\n",
       "    <tr>\n",
       "      <th>3581</th>\n",
       "      <td>-0.232088</td>\n",
       "      <td>-0.461592</td>\n",
       "      <td>-0.540569</td>\n",
       "      <td>-0.722646</td>\n",
       "    </tr>\n",
       "  </tbody>\n",
       "</table>\n",
       "<p>3582 rows × 4 columns</p>\n",
       "</div>"
      ],
      "text/plain": [
       "           Age   Overall  Potential  Jersey Number\n",
       "0    -1.304214 -0.461592   0.434866       0.762713\n",
       "1    -0.660939 -0.173982   0.272293      -0.722646\n",
       "2    -0.017663 -1.899643  -2.491440      -1.155875\n",
       "3    -0.232088  1.120264   1.085156      -1.093985\n",
       "4    -1.304214 -0.461592  -0.052852      -0.165636\n",
       "...        ...       ...        ...            ...\n",
       "3577  1.697739  0.257434  -0.540569      -0.722646\n",
       "3578  0.411188 -0.173982  -0.540569      -0.227526\n",
       "3579  0.411188  0.976459   0.434866      -0.536976\n",
       "3580 -1.089789 -0.461592   0.760011       0.638933\n",
       "3581 -0.232088 -0.461592  -0.540569      -0.722646\n",
       "\n",
       "[3582 rows x 4 columns]"
      ]
     },
     "execution_count": 236,
     "metadata": {},
     "output_type": "execute_result"
    }
   ],
   "source": [
    "scaler = MyStandardScaler()\n",
    "scaler.fit(X_train)\n",
    "scaled_train = scaler.transform(X_train)\n",
    "scaled_test = scaler.transform(X_test)\n",
    "scaled_test\n"
   ]
  },
  {
   "cell_type": "markdown",
   "metadata": {},
   "source": [
    "# tasks"
   ]
  },
  {
   "cell_type": "markdown",
   "metadata": {},
   "source": [
    "###### try applying this scalers to any dataset and check the regression results"
   ]
  },
  {
   "cell_type": "code",
   "execution_count": 237,
   "metadata": {},
   "outputs": [],
   "source": [
    "# Load the Diabetes dataset\n",
    "columns = 'age sex bmi map tc ldl hdl tch ltg glu'.split() # Declare the columns names\n",
    "diabetes = datasets.load_diabetes() # Call the diabetes dataset from sklearn\n",
    "df = pd.DataFrame(diabetes.data, columns=columns) # load the dataset as a pandas data frame\n",
    "y = diabetes.target # define the target variable (dependent variable) as y"
   ]
  },
  {
   "cell_type": "code",
   "execution_count": 238,
   "metadata": {},
   "outputs": [],
   "source": [
    "X_train, X_test, y_train, y_test = train_test_split(df, y, test_size=0.2, random_state=42)"
   ]
  },
  {
   "cell_type": "code",
   "execution_count": 239,
   "metadata": {},
   "outputs": [],
   "source": [
    "# Initialise the Scaler and Fit\n",
    "norm = MinMaxScaler().fit(X_train)"
   ]
  },
  {
   "cell_type": "code",
   "execution_count": 240,
   "metadata": {},
   "outputs": [
    {
     "data": {
      "text/html": [
       "<div>\n",
       "<style scoped>\n",
       "    .dataframe tbody tr th:only-of-type {\n",
       "        vertical-align: middle;\n",
       "    }\n",
       "\n",
       "    .dataframe tbody tr th {\n",
       "        vertical-align: top;\n",
       "    }\n",
       "\n",
       "    .dataframe thead th {\n",
       "        text-align: right;\n",
       "    }\n",
       "</style>\n",
       "<table border=\"1\" class=\"dataframe\">\n",
       "  <thead>\n",
       "    <tr style=\"text-align: right;\">\n",
       "      <th></th>\n",
       "      <th>age</th>\n",
       "      <th>sex</th>\n",
       "      <th>bmi</th>\n",
       "      <th>map</th>\n",
       "      <th>tc</th>\n",
       "      <th>ldl</th>\n",
       "      <th>hdl</th>\n",
       "      <th>tch</th>\n",
       "      <th>ltg</th>\n",
       "      <th>glu</th>\n",
       "    </tr>\n",
       "  </thead>\n",
       "  <tbody>\n",
       "    <tr>\n",
       "      <th>0</th>\n",
       "      <td>0.816667</td>\n",
       "      <td>1.0</td>\n",
       "      <td>0.405172</td>\n",
       "      <td>0.690141</td>\n",
       "      <td>0.544503</td>\n",
       "      <td>0.524900</td>\n",
       "      <td>0.220779</td>\n",
       "      <td>0.423131</td>\n",
       "      <td>0.590940</td>\n",
       "      <td>0.500000</td>\n",
       "    </tr>\n",
       "    <tr>\n",
       "      <th>1</th>\n",
       "      <td>0.450000</td>\n",
       "      <td>1.0</td>\n",
       "      <td>0.284483</td>\n",
       "      <td>0.323944</td>\n",
       "      <td>0.335079</td>\n",
       "      <td>0.406375</td>\n",
       "      <td>0.103896</td>\n",
       "      <td>0.564175</td>\n",
       "      <td>0.486602</td>\n",
       "      <td>0.575758</td>\n",
       "    </tr>\n",
       "    <tr>\n",
       "      <th>2</th>\n",
       "      <td>0.516667</td>\n",
       "      <td>0.0</td>\n",
       "      <td>0.556034</td>\n",
       "      <td>0.859155</td>\n",
       "      <td>0.356021</td>\n",
       "      <td>0.315737</td>\n",
       "      <td>0.337662</td>\n",
       "      <td>0.282087</td>\n",
       "      <td>0.551161</td>\n",
       "      <td>0.454545</td>\n",
       "    </tr>\n",
       "    <tr>\n",
       "      <th>3</th>\n",
       "      <td>0.366667</td>\n",
       "      <td>0.0</td>\n",
       "      <td>0.215517</td>\n",
       "      <td>0.338028</td>\n",
       "      <td>0.198953</td>\n",
       "      <td>0.181275</td>\n",
       "      <td>0.467532</td>\n",
       "      <td>0.141044</td>\n",
       "      <td>0.293531</td>\n",
       "      <td>0.030303</td>\n",
       "    </tr>\n",
       "    <tr>\n",
       "      <th>4</th>\n",
       "      <td>0.383333</td>\n",
       "      <td>0.0</td>\n",
       "      <td>0.094828</td>\n",
       "      <td>0.126761</td>\n",
       "      <td>0.267016</td>\n",
       "      <td>0.197211</td>\n",
       "      <td>0.571429</td>\n",
       "      <td>0.000000</td>\n",
       "      <td>0.342589</td>\n",
       "      <td>0.348485</td>\n",
       "    </tr>\n",
       "    <tr>\n",
       "      <th>...</th>\n",
       "      <td>...</td>\n",
       "      <td>...</td>\n",
       "      <td>...</td>\n",
       "      <td>...</td>\n",
       "      <td>...</td>\n",
       "      <td>...</td>\n",
       "      <td>...</td>\n",
       "      <td>...</td>\n",
       "      <td>...</td>\n",
       "      <td>...</td>\n",
       "    </tr>\n",
       "    <tr>\n",
       "      <th>348</th>\n",
       "      <td>0.050000</td>\n",
       "      <td>0.0</td>\n",
       "      <td>0.051724</td>\n",
       "      <td>0.281690</td>\n",
       "      <td>0.240838</td>\n",
       "      <td>0.256972</td>\n",
       "      <td>0.389610</td>\n",
       "      <td>0.141044</td>\n",
       "      <td>0.256548</td>\n",
       "      <td>0.196970</td>\n",
       "    </tr>\n",
       "    <tr>\n",
       "      <th>349</th>\n",
       "      <td>0.516667</td>\n",
       "      <td>1.0</td>\n",
       "      <td>0.478448</td>\n",
       "      <td>0.802817</td>\n",
       "      <td>0.272251</td>\n",
       "      <td>0.217131</td>\n",
       "      <td>0.415584</td>\n",
       "      <td>0.141044</td>\n",
       "      <td>0.518828</td>\n",
       "      <td>0.560606</td>\n",
       "    </tr>\n",
       "    <tr>\n",
       "      <th>350</th>\n",
       "      <td>0.633333</td>\n",
       "      <td>0.0</td>\n",
       "      <td>0.275862</td>\n",
       "      <td>0.436620</td>\n",
       "      <td>0.397906</td>\n",
       "      <td>0.273904</td>\n",
       "      <td>0.636364</td>\n",
       "      <td>0.141044</td>\n",
       "      <td>0.443568</td>\n",
       "      <td>0.500000</td>\n",
       "    </tr>\n",
       "    <tr>\n",
       "      <th>351</th>\n",
       "      <td>0.433333</td>\n",
       "      <td>0.0</td>\n",
       "      <td>0.262931</td>\n",
       "      <td>0.295775</td>\n",
       "      <td>0.350785</td>\n",
       "      <td>0.382470</td>\n",
       "      <td>0.298701</td>\n",
       "      <td>0.282087</td>\n",
       "      <td>0.337464</td>\n",
       "      <td>0.363636</td>\n",
       "    </tr>\n",
       "    <tr>\n",
       "      <th>352</th>\n",
       "      <td>0.066667</td>\n",
       "      <td>0.0</td>\n",
       "      <td>0.469828</td>\n",
       "      <td>0.394366</td>\n",
       "      <td>0.554974</td>\n",
       "      <td>0.447211</td>\n",
       "      <td>0.558442</td>\n",
       "      <td>0.141044</td>\n",
       "      <td>0.465744</td>\n",
       "      <td>0.500000</td>\n",
       "    </tr>\n",
       "  </tbody>\n",
       "</table>\n",
       "<p>353 rows × 10 columns</p>\n",
       "</div>"
      ],
      "text/plain": [
       "          age  sex       bmi       map        tc       ldl       hdl  \\\n",
       "0    0.816667  1.0  0.405172  0.690141  0.544503  0.524900  0.220779   \n",
       "1    0.450000  1.0  0.284483  0.323944  0.335079  0.406375  0.103896   \n",
       "2    0.516667  0.0  0.556034  0.859155  0.356021  0.315737  0.337662   \n",
       "3    0.366667  0.0  0.215517  0.338028  0.198953  0.181275  0.467532   \n",
       "4    0.383333  0.0  0.094828  0.126761  0.267016  0.197211  0.571429   \n",
       "..        ...  ...       ...       ...       ...       ...       ...   \n",
       "348  0.050000  0.0  0.051724  0.281690  0.240838  0.256972  0.389610   \n",
       "349  0.516667  1.0  0.478448  0.802817  0.272251  0.217131  0.415584   \n",
       "350  0.633333  0.0  0.275862  0.436620  0.397906  0.273904  0.636364   \n",
       "351  0.433333  0.0  0.262931  0.295775  0.350785  0.382470  0.298701   \n",
       "352  0.066667  0.0  0.469828  0.394366  0.554974  0.447211  0.558442   \n",
       "\n",
       "          tch       ltg       glu  \n",
       "0    0.423131  0.590940  0.500000  \n",
       "1    0.564175  0.486602  0.575758  \n",
       "2    0.282087  0.551161  0.454545  \n",
       "3    0.141044  0.293531  0.030303  \n",
       "4    0.000000  0.342589  0.348485  \n",
       "..        ...       ...       ...  \n",
       "348  0.141044  0.256548  0.196970  \n",
       "349  0.141044  0.518828  0.560606  \n",
       "350  0.141044  0.443568  0.500000  \n",
       "351  0.282087  0.337464  0.363636  \n",
       "352  0.141044  0.465744  0.500000  \n",
       "\n",
       "[353 rows x 10 columns]"
      ]
     },
     "execution_count": 240,
     "metadata": {},
     "output_type": "execute_result"
    }
   ],
   "source": [
    "X_train = pd.DataFrame(columns = X_train.columns, data = norm.transform(X_train))\n",
    "X_train"
   ]
  },
  {
   "cell_type": "code",
   "execution_count": 241,
   "metadata": {},
   "outputs": [],
   "source": [
    "# fit a model\n",
    "lm = linear_model.LinearRegression()\n",
    "model = lm.fit(X_train, y_train)\n",
    "X_test = pd.DataFrame(columns = X_test.columns, data = norm.transform(X_test))\n",
    "predictions = lm.predict(X_test)"
   ]
  },
  {
   "cell_type": "code",
   "execution_count": 242,
   "metadata": {},
   "outputs": [
    {
     "data": {
      "text/plain": [
       "0.45260660216173787"
      ]
     },
     "execution_count": 242,
     "metadata": {},
     "output_type": "execute_result"
    }
   ],
   "source": [
    "model.score(X_test, y_test)"
   ]
  },
  {
   "cell_type": "code",
   "execution_count": 243,
   "metadata": {},
   "outputs": [
    {
     "name": "stdout",
     "output_type": "stream",
     "text": [
      "Test RMSE: 53.8532569849144\n",
      "Train RMSE: 53.55881425327268\n"
     ]
    }
   ],
   "source": [
    "print ('Test RMSE:', np.sqrt(mean_squared_error(predictions, y_test)))\n",
    "print ('Train RMSE:', np.sqrt(mean_squared_error(lm.predict(X_train), y_train)))"
   ]
  },
  {
   "cell_type": "code",
   "execution_count": 244,
   "metadata": {},
   "outputs": [],
   "source": [
    "X_train, X_test, y_train, y_test = train_test_split(df, y, test_size=0.2, random_state=42)"
   ]
  },
  {
   "cell_type": "code",
   "execution_count": 245,
   "metadata": {},
   "outputs": [],
   "source": [
    "# Initialise the Scaler and Fit\n",
    "norm = StandardScaler().fit(X_train)"
   ]
  },
  {
   "cell_type": "code",
   "execution_count": 246,
   "metadata": {},
   "outputs": [
    {
     "data": {
      "text/html": [
       "<div>\n",
       "<style scoped>\n",
       "    .dataframe tbody tr th:only-of-type {\n",
       "        vertical-align: middle;\n",
       "    }\n",
       "\n",
       "    .dataframe tbody tr th {\n",
       "        vertical-align: top;\n",
       "    }\n",
       "\n",
       "    .dataframe thead th {\n",
       "        text-align: right;\n",
       "    }\n",
       "</style>\n",
       "<table border=\"1\" class=\"dataframe\">\n",
       "  <thead>\n",
       "    <tr style=\"text-align: right;\">\n",
       "      <th></th>\n",
       "      <th>age</th>\n",
       "      <th>sex</th>\n",
       "      <th>bmi</th>\n",
       "      <th>map</th>\n",
       "      <th>tc</th>\n",
       "      <th>ldl</th>\n",
       "      <th>hdl</th>\n",
       "      <th>tch</th>\n",
       "      <th>ltg</th>\n",
       "      <th>glu</th>\n",
       "    </tr>\n",
       "  </thead>\n",
       "  <tbody>\n",
       "    <tr>\n",
       "      <th>0</th>\n",
       "      <td>1.498365</td>\n",
       "      <td>1.061370</td>\n",
       "      <td>0.219902</td>\n",
       "      <td>1.138877</td>\n",
       "      <td>0.728473</td>\n",
       "      <td>1.055893</td>\n",
       "      <td>-0.824451</td>\n",
       "      <td>0.711038</td>\n",
       "      <td>0.547560</td>\n",
       "      <td>-0.061449</td>\n",
       "    </tr>\n",
       "    <tr>\n",
       "      <th>1</th>\n",
       "      <td>-0.228858</td>\n",
       "      <td>1.061370</td>\n",
       "      <td>-0.419366</td>\n",
       "      <td>-0.710597</td>\n",
       "      <td>-0.424929</td>\n",
       "      <td>0.272425</td>\n",
       "      <td>-1.529791</td>\n",
       "      <td>1.484286</td>\n",
       "      <td>-0.019776</td>\n",
       "      <td>0.367236</td>\n",
       "    </tr>\n",
       "    <tr>\n",
       "      <th>2</th>\n",
       "      <td>0.085182</td>\n",
       "      <td>-0.942179</td>\n",
       "      <td>1.018987</td>\n",
       "      <td>1.992480</td>\n",
       "      <td>-0.309589</td>\n",
       "      <td>-0.326699</td>\n",
       "      <td>-0.119111</td>\n",
       "      <td>-0.062210</td>\n",
       "      <td>0.331260</td>\n",
       "      <td>-0.318660</td>\n",
       "    </tr>\n",
       "    <tr>\n",
       "      <th>3</th>\n",
       "      <td>-0.621409</td>\n",
       "      <td>-0.942179</td>\n",
       "      <td>-0.784662</td>\n",
       "      <td>-0.639464</td>\n",
       "      <td>-1.174640</td>\n",
       "      <td>-1.215508</td>\n",
       "      <td>0.664600</td>\n",
       "      <td>-0.835458</td>\n",
       "      <td>-1.069599</td>\n",
       "      <td>-2.719299</td>\n",
       "    </tr>\n",
       "    <tr>\n",
       "      <th>4</th>\n",
       "      <td>-0.542899</td>\n",
       "      <td>-0.942179</td>\n",
       "      <td>-1.423930</td>\n",
       "      <td>-1.706468</td>\n",
       "      <td>-0.799784</td>\n",
       "      <td>-1.110167</td>\n",
       "      <td>1.291569</td>\n",
       "      <td>-1.608706</td>\n",
       "      <td>-0.802848</td>\n",
       "      <td>-0.918820</td>\n",
       "    </tr>\n",
       "    <tr>\n",
       "      <th>...</th>\n",
       "      <td>...</td>\n",
       "      <td>...</td>\n",
       "      <td>...</td>\n",
       "      <td>...</td>\n",
       "      <td>...</td>\n",
       "      <td>...</td>\n",
       "      <td>...</td>\n",
       "      <td>...</td>\n",
       "      <td>...</td>\n",
       "      <td>...</td>\n",
       "    </tr>\n",
       "    <tr>\n",
       "      <th>348</th>\n",
       "      <td>-2.113102</td>\n",
       "      <td>-0.942179</td>\n",
       "      <td>-1.652240</td>\n",
       "      <td>-0.923998</td>\n",
       "      <td>-0.943960</td>\n",
       "      <td>-0.715141</td>\n",
       "      <td>0.194374</td>\n",
       "      <td>-0.835458</td>\n",
       "      <td>-1.270691</td>\n",
       "      <td>-1.776191</td>\n",
       "    </tr>\n",
       "    <tr>\n",
       "      <th>349</th>\n",
       "      <td>0.085182</td>\n",
       "      <td>1.061370</td>\n",
       "      <td>0.608029</td>\n",
       "      <td>1.707946</td>\n",
       "      <td>-0.770949</td>\n",
       "      <td>-0.978492</td>\n",
       "      <td>0.351116</td>\n",
       "      <td>-0.835458</td>\n",
       "      <td>0.155448</td>\n",
       "      <td>0.281499</td>\n",
       "    </tr>\n",
       "    <tr>\n",
       "      <th>350</th>\n",
       "      <td>0.634754</td>\n",
       "      <td>-0.942179</td>\n",
       "      <td>-0.465028</td>\n",
       "      <td>-0.141528</td>\n",
       "      <td>-0.078908</td>\n",
       "      <td>-0.603217</td>\n",
       "      <td>1.683425</td>\n",
       "      <td>-0.835458</td>\n",
       "      <td>-0.253776</td>\n",
       "      <td>-0.061449</td>\n",
       "    </tr>\n",
       "    <tr>\n",
       "      <th>351</th>\n",
       "      <td>-0.307368</td>\n",
       "      <td>-0.942179</td>\n",
       "      <td>-0.533521</td>\n",
       "      <td>-0.852865</td>\n",
       "      <td>-0.338424</td>\n",
       "      <td>0.114414</td>\n",
       "      <td>-0.354224</td>\n",
       "      <td>-0.062210</td>\n",
       "      <td>-0.830712</td>\n",
       "      <td>-0.833083</td>\n",
       "    </tr>\n",
       "    <tr>\n",
       "      <th>352</th>\n",
       "      <td>-2.034592</td>\n",
       "      <td>-0.942179</td>\n",
       "      <td>0.562367</td>\n",
       "      <td>-0.354929</td>\n",
       "      <td>0.786143</td>\n",
       "      <td>0.542359</td>\n",
       "      <td>1.213198</td>\n",
       "      <td>-0.835458</td>\n",
       "      <td>-0.133192</td>\n",
       "      <td>-0.061449</td>\n",
       "    </tr>\n",
       "  </tbody>\n",
       "</table>\n",
       "<p>353 rows × 10 columns</p>\n",
       "</div>"
      ],
      "text/plain": [
       "          age       sex       bmi       map        tc       ldl       hdl  \\\n",
       "0    1.498365  1.061370  0.219902  1.138877  0.728473  1.055893 -0.824451   \n",
       "1   -0.228858  1.061370 -0.419366 -0.710597 -0.424929  0.272425 -1.529791   \n",
       "2    0.085182 -0.942179  1.018987  1.992480 -0.309589 -0.326699 -0.119111   \n",
       "3   -0.621409 -0.942179 -0.784662 -0.639464 -1.174640 -1.215508  0.664600   \n",
       "4   -0.542899 -0.942179 -1.423930 -1.706468 -0.799784 -1.110167  1.291569   \n",
       "..        ...       ...       ...       ...       ...       ...       ...   \n",
       "348 -2.113102 -0.942179 -1.652240 -0.923998 -0.943960 -0.715141  0.194374   \n",
       "349  0.085182  1.061370  0.608029  1.707946 -0.770949 -0.978492  0.351116   \n",
       "350  0.634754 -0.942179 -0.465028 -0.141528 -0.078908 -0.603217  1.683425   \n",
       "351 -0.307368 -0.942179 -0.533521 -0.852865 -0.338424  0.114414 -0.354224   \n",
       "352 -2.034592 -0.942179  0.562367 -0.354929  0.786143  0.542359  1.213198   \n",
       "\n",
       "          tch       ltg       glu  \n",
       "0    0.711038  0.547560 -0.061449  \n",
       "1    1.484286 -0.019776  0.367236  \n",
       "2   -0.062210  0.331260 -0.318660  \n",
       "3   -0.835458 -1.069599 -2.719299  \n",
       "4   -1.608706 -0.802848 -0.918820  \n",
       "..        ...       ...       ...  \n",
       "348 -0.835458 -1.270691 -1.776191  \n",
       "349 -0.835458  0.155448  0.281499  \n",
       "350 -0.835458 -0.253776 -0.061449  \n",
       "351 -0.062210 -0.830712 -0.833083  \n",
       "352 -0.835458 -0.133192 -0.061449  \n",
       "\n",
       "[353 rows x 10 columns]"
      ]
     },
     "execution_count": 246,
     "metadata": {},
     "output_type": "execute_result"
    }
   ],
   "source": [
    "X_train = pd.DataFrame(columns = X_train.columns, data = norm.transform(X_train))\n",
    "X_train"
   ]
  },
  {
   "cell_type": "code",
   "execution_count": 247,
   "metadata": {},
   "outputs": [],
   "source": [
    "# fit a model\n",
    "lm = linear_model.LinearRegression()\n",
    "model = lm.fit(X_train, y_train)\n",
    "X_test = pd.DataFrame(columns = X_test.columns, data = norm.transform(X_test))\n",
    "predictions = lm.predict(X_test)"
   ]
  },
  {
   "cell_type": "code",
   "execution_count": 248,
   "metadata": {},
   "outputs": [
    {
     "data": {
      "text/plain": [
       "0.45260660216173787"
      ]
     },
     "execution_count": 248,
     "metadata": {},
     "output_type": "execute_result"
    }
   ],
   "source": [
    "model.score(X_test, y_test)"
   ]
  },
  {
   "cell_type": "code",
   "execution_count": 249,
   "metadata": {},
   "outputs": [
    {
     "name": "stdout",
     "output_type": "stream",
     "text": [
      "Test RMSE: 53.8532569849144\n",
      "Train RMSE: 53.55881425327268\n"
     ]
    }
   ],
   "source": [
    "print ('Test RMSE:', np.sqrt(mean_squared_error(predictions, y_test)))\n",
    "print ('Train RMSE:', np.sqrt(mean_squared_error(lm.predict(X_train), y_train)))"
   ]
  },
  {
   "cell_type": "code",
   "execution_count": 250,
   "metadata": {},
   "outputs": [],
   "source": [
    "lm = linear_model.LinearRegression()\n",
    "model = lm.fit(X_train, y_train)\n",
    "X_test = pd.DataFrame(columns = X_test.columns, data = norm.transform(X_test))\n",
    "predictions = lm.predict(X_test)"
   ]
  },
  {
   "cell_type": "code",
   "execution_count": 251,
   "metadata": {},
   "outputs": [
    {
     "data": {
      "text/plain": [
       "-231.9688222115085"
      ]
     },
     "execution_count": 251,
     "metadata": {},
     "output_type": "execute_result"
    }
   ],
   "source": [
    "model.score(X_test, y_test)"
   ]
  },
  {
   "cell_type": "code",
   "execution_count": 252,
   "metadata": {},
   "outputs": [
    {
     "name": "stdout",
     "output_type": "stream",
     "text": [
      "Test RMSE: 1110.992426954278\n",
      "Train RMSE: 53.55881425327268\n"
     ]
    }
   ],
   "source": [
    "print ('Test RMSE:', np.sqrt(mean_squared_error(predictions, y_test)))\n",
    "print ('Train RMSE:', np.sqrt(mean_squared_error(lm.predict(X_train), y_train)))"
   ]
  },
  {
   "cell_type": "code",
   "execution_count": 253,
   "metadata": {},
   "outputs": [],
   "source": [
    "data = pd.read_csv('regression.csv') \n",
    "y = data.Value\n",
    "data = data.drop(['Name', 'Nationality', 'Club', \n",
    "                  'Wage', 'Position', 'Contract Valid Until', \n",
    "                  'Height', 'Weight', 'Value'], axis = 1)"
   ]
  },
  {
   "cell_type": "code",
   "execution_count": 254,
   "metadata": {},
   "outputs": [],
   "source": [
    "X_train, X_test, y_train, y_test = train_test_split(data, y, test_size=0.2, random_state=42)"
   ]
  },
  {
   "cell_type": "code",
   "execution_count": 255,
   "metadata": {},
   "outputs": [],
   "source": [
    "norm = StandardScaler().fit(X_train)"
   ]
  },
  {
   "cell_type": "code",
   "execution_count": 256,
   "metadata": {},
   "outputs": [],
   "source": [
    "X_train = pd.DataFrame(columns = X_train.columns, data = norm.transform(X_train))"
   ]
  },
  {
   "cell_type": "code",
   "execution_count": 257,
   "metadata": {},
   "outputs": [],
   "source": [
    "lm = linear_model.LinearRegression()\n",
    "model = lm.fit(X_train, y_train)\n",
    "X_test = pd.DataFrame(columns = X_test.columns, data = norm.transform(X_test))\n",
    "predictions = lm.predict(X_test)"
   ]
  },
  {
   "cell_type": "code",
   "execution_count": 258,
   "metadata": {},
   "outputs": [
    {
     "data": {
      "text/plain": [
       "0.4499045750576577"
      ]
     },
     "execution_count": 258,
     "metadata": {},
     "output_type": "execute_result"
    }
   ],
   "source": [
    "model.score(X_test, y_test)"
   ]
  },
  {
   "cell_type": "code",
   "execution_count": 259,
   "metadata": {},
   "outputs": [
    {
     "name": "stdout",
     "output_type": "stream",
     "text": [
      "Test RMSE: 4332536.175036151\n",
      "Train RMSE: 4108467.718850979\n"
     ]
    }
   ],
   "source": [
    "print ('Test RMSE:', np.sqrt(mean_squared_error(predictions, y_test)))\n",
    "print ('Train RMSE:', np.sqrt(mean_squared_error(lm.predict(X_train), y_train)))"
   ]
  },
  {
   "cell_type": "code",
   "execution_count": null,
   "metadata": {},
   "outputs": [],
   "source": []
  },
  {
   "cell_type": "code",
   "execution_count": null,
   "metadata": {},
   "outputs": [],
   "source": []
  }
 ],
 "metadata": {
  "kernelspec": {
   "display_name": "Python 3",
   "language": "python",
   "name": "python3"
  },
  "language_info": {
   "codemirror_mode": {
    "name": "ipython",
    "version": 3
   },
   "file_extension": ".py",
   "mimetype": "text/x-python",
   "name": "python",
   "nbconvert_exporter": "python",
   "pygments_lexer": "ipython3",
   "version": "3.8.8"
  }
 },
 "nbformat": 4,
 "nbformat_minor": 4
}
